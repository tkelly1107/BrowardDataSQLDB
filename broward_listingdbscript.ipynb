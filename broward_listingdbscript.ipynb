{
 "cells": [
  {
   "cell_type": "code",
   "execution_count": 1,
   "metadata": {},
   "outputs": [],
   "source": [
    "import sqlite3\n",
    "import openpyxl\n",
    "import pandas as pd"
   ]
  },
  {
   "cell_type": "code",
   "execution_count": 22,
   "metadata": {},
   "outputs": [],
   "source": [
    "conn = sqlite3.connect('broward_listings.db')\n",
    "c = conn.cursor()"
   ]
  },
  {
   "cell_type": "code",
   "execution_count": 5,
   "metadata": {},
   "outputs": [
    {
     "data": {
      "text/plain": [
       "<sqlite3.Cursor at 0x230d65f9730>"
      ]
     },
     "execution_count": 5,
     "metadata": {},
     "output_type": "execute_result"
    }
   ],
   "source": [
    "c.execute('''CREATE TABLE Host (\n",
    "\thid integer PRIMARY KEY AUTOINCREMENT,\n",
    "\thost_about blob,\n",
    "\thost_location blob,\n",
    "\thost_name blob,\n",
    "\thost_since blob\n",
    ")''')"
   ]
  },
  {
   "cell_type": "code",
   "execution_count": 6,
   "metadata": {},
   "outputs": [
    {
     "data": {
      "text/plain": [
       "<sqlite3.Cursor at 0x230d65f9730>"
      ]
     },
     "execution_count": 6,
     "metadata": {},
     "output_type": "execute_result"
    }
   ],
   "source": [
    "c.execute('''CREATE TABLE Neighborhood (\n",
    "\tnid integer PRIMARY KEY AUTOINCREMENT,\n",
    "\thid integer,\n",
    "\tneighbourhood_cleansed blob,\n",
    "\tneighbourhood blob,\n",
    "\tneighbourhood_group_cleaned blob,\n",
    "\tFOREIGN KEY(hid) REFERENCES Host(hid)\n",
    ")''')"
   ]
  },
  {
   "cell_type": "code",
   "execution_count": 7,
   "metadata": {},
   "outputs": [
    {
     "data": {
      "text/plain": [
       "<sqlite3.Cursor at 0x230d65f9730>"
      ]
     },
     "execution_count": 7,
     "metadata": {},
     "output_type": "execute_result"
    }
   ],
   "source": [
    "c.execute('''CREATE TABLE Review (\n",
    "\trid integer PRIMARY KEY AUTOINCREMENT,\n",
    "\thid integer,\n",
    "\treview_score_rating blob,\n",
    "\tnumber_of_reviews blob,\n",
    "\treview_score_checkin blob,\n",
    "\treview_scores_communication blob,\n",
    "\tFOREIGN KEY(hid) REFERENCES Host(hid)\n",
    ")''')"
   ]
  },
  {
   "cell_type": "code",
   "execution_count": 8,
   "metadata": {},
   "outputs": [
    {
     "data": {
      "text/plain": [
       "<sqlite3.Cursor at 0x230d65f9730>"
      ]
     },
     "execution_count": 8,
     "metadata": {},
     "output_type": "execute_result"
    }
   ],
   "source": [
    "c.execute('''CREATE TABLE Property (\n",
    "\tpid integer PRIMARY KEY AUTOINCREMENT,\n",
    "\tproperty_type text,\n",
    "\troom_type text,\n",
    "\tamenities blob,\n",
    "\tprice blob,\n",
    "\tnid integer,\n",
    "\tFOREIGN KEY(nid) REFERENCES Neighborhood(nid)\n",
    ")''')"
   ]
  },
  {
   "cell_type": "code",
   "execution_count": 17,
   "metadata": {},
   "outputs": [],
   "source": [
    "broward_listings = pd.read_excel(r'C:\\Users\\recon\\Desktop\\browardlistings.xlsx', sheet_name='Property')"
   ]
  },
  {
   "cell_type": "code",
   "execution_count": 18,
   "metadata": {},
   "outputs": [
    {
     "data": {
      "text/html": [
       "<div>\n",
       "<style scoped>\n",
       "    .dataframe tbody tr th:only-of-type {\n",
       "        vertical-align: middle;\n",
       "    }\n",
       "\n",
       "    .dataframe tbody tr th {\n",
       "        vertical-align: top;\n",
       "    }\n",
       "\n",
       "    .dataframe thead th {\n",
       "        text-align: right;\n",
       "    }\n",
       "</style>\n",
       "<table border=\"1\" class=\"dataframe\">\n",
       "  <thead>\n",
       "    <tr style=\"text-align: right;\">\n",
       "      <th></th>\n",
       "      <th>index</th>\n",
       "      <th>property_type</th>\n",
       "      <th>room_type</th>\n",
       "      <th>amenities</th>\n",
       "      <th>price</th>\n",
       "    </tr>\n",
       "  </thead>\n",
       "  <tbody>\n",
       "    <tr>\n",
       "      <th>0</th>\n",
       "      <td>NaN</td>\n",
       "      <td>Entire home</td>\n",
       "      <td>Entire home/apt</td>\n",
       "      <td>[\"Hair dryer\", \"Extra pillows and blankets\", \"...</td>\n",
       "      <td>307</td>\n",
       "    </tr>\n",
       "    <tr>\n",
       "      <th>1</th>\n",
       "      <td>NaN</td>\n",
       "      <td>Entire home</td>\n",
       "      <td>Entire home/apt</td>\n",
       "      <td>[\"Hair dryer\", \"Free parking on premises\", \"Fi...</td>\n",
       "      <td>374</td>\n",
       "    </tr>\n",
       "    <tr>\n",
       "      <th>2</th>\n",
       "      <td>NaN</td>\n",
       "      <td>Room in hotel</td>\n",
       "      <td>Private room</td>\n",
       "      <td>[\"Hair dryer\", \"Extra pillows and blankets\", \"...</td>\n",
       "      <td>268</td>\n",
       "    </tr>\n",
       "    <tr>\n",
       "      <th>3</th>\n",
       "      <td>NaN</td>\n",
       "      <td>Room in hotel</td>\n",
       "      <td>Private room</td>\n",
       "      <td>[\"Hair dryer\", \"Extra pillows and blankets\", \"...</td>\n",
       "      <td>294</td>\n",
       "    </tr>\n",
       "    <tr>\n",
       "      <th>4</th>\n",
       "      <td>NaN</td>\n",
       "      <td>Entire home</td>\n",
       "      <td>Entire home/apt</td>\n",
       "      <td>[\"Hair dryer\", \"Private entrance\", \"Extra pill...</td>\n",
       "      <td>104</td>\n",
       "    </tr>\n",
       "    <tr>\n",
       "      <th>...</th>\n",
       "      <td>...</td>\n",
       "      <td>...</td>\n",
       "      <td>...</td>\n",
       "      <td>...</td>\n",
       "      <td>...</td>\n",
       "    </tr>\n",
       "    <tr>\n",
       "      <th>16629</th>\n",
       "      <td>NaN</td>\n",
       "      <td>Entire condo</td>\n",
       "      <td>Entire home/apt</td>\n",
       "      <td>[\"Hair dryer\", \"Paid parking off premises\", \"E...</td>\n",
       "      <td>59</td>\n",
       "    </tr>\n",
       "    <tr>\n",
       "      <th>16630</th>\n",
       "      <td>NaN</td>\n",
       "      <td>Entire vacation home</td>\n",
       "      <td>Entire home/apt</td>\n",
       "      <td>[\"Hair dryer\", \"Free parking on premises\", \"Ro...</td>\n",
       "      <td>129</td>\n",
       "    </tr>\n",
       "    <tr>\n",
       "      <th>16631</th>\n",
       "      <td>NaN</td>\n",
       "      <td>Private room in serviced apartment</td>\n",
       "      <td>Private room</td>\n",
       "      <td>[\"Hair dryer\", \"High chair\", \"Smoke alarm\", \"L...</td>\n",
       "      <td>131</td>\n",
       "    </tr>\n",
       "    <tr>\n",
       "      <th>16632</th>\n",
       "      <td>NaN</td>\n",
       "      <td>Entire serviced apartment</td>\n",
       "      <td>Entire home/apt</td>\n",
       "      <td>[\"Hair dryer\", \"Free parking on premises\", \"Sm...</td>\n",
       "      <td>192</td>\n",
       "    </tr>\n",
       "    <tr>\n",
       "      <th>16633</th>\n",
       "      <td>NaN</td>\n",
       "      <td>Entire condo</td>\n",
       "      <td>Entire home/apt</td>\n",
       "      <td>[\"Hair dryer\", \"Extra pillows and blankets\", \"...</td>\n",
       "      <td>113</td>\n",
       "    </tr>\n",
       "  </tbody>\n",
       "</table>\n",
       "<p>16634 rows × 5 columns</p>\n",
       "</div>"
      ],
      "text/plain": [
       "       index                       property_type        room_type  \\\n",
       "0        NaN                         Entire home  Entire home/apt   \n",
       "1        NaN                         Entire home  Entire home/apt   \n",
       "2        NaN                       Room in hotel     Private room   \n",
       "3        NaN                       Room in hotel     Private room   \n",
       "4        NaN                         Entire home  Entire home/apt   \n",
       "...      ...                                 ...              ...   \n",
       "16629    NaN                        Entire condo  Entire home/apt   \n",
       "16630    NaN                Entire vacation home  Entire home/apt   \n",
       "16631    NaN  Private room in serviced apartment     Private room   \n",
       "16632    NaN           Entire serviced apartment  Entire home/apt   \n",
       "16633    NaN                        Entire condo  Entire home/apt   \n",
       "\n",
       "                                               amenities  price  \n",
       "0      [\"Hair dryer\", \"Extra pillows and blankets\", \"...    307  \n",
       "1      [\"Hair dryer\", \"Free parking on premises\", \"Fi...    374  \n",
       "2      [\"Hair dryer\", \"Extra pillows and blankets\", \"...    268  \n",
       "3      [\"Hair dryer\", \"Extra pillows and blankets\", \"...    294  \n",
       "4      [\"Hair dryer\", \"Private entrance\", \"Extra pill...    104  \n",
       "...                                                  ...    ...  \n",
       "16629  [\"Hair dryer\", \"Paid parking off premises\", \"E...     59  \n",
       "16630  [\"Hair dryer\", \"Free parking on premises\", \"Ro...    129  \n",
       "16631  [\"Hair dryer\", \"High chair\", \"Smoke alarm\", \"L...    131  \n",
       "16632  [\"Hair dryer\", \"Free parking on premises\", \"Sm...    192  \n",
       "16633  [\"Hair dryer\", \"Extra pillows and blankets\", \"...    113  \n",
       "\n",
       "[16634 rows x 5 columns]"
      ]
     },
     "execution_count": 18,
     "metadata": {},
     "output_type": "execute_result"
    }
   ],
   "source": [
    "broward_listings"
   ]
  },
  {
   "cell_type": "code",
   "execution_count": 35,
   "metadata": {},
   "outputs": [],
   "source": [
    "conn.commit()\n",
    "conn.close()"
   ]
  }
 ],
 "metadata": {
  "kernelspec": {
   "display_name": "Python 3.9.2 64-bit",
   "language": "python",
   "name": "python3"
  },
  "language_info": {
   "codemirror_mode": {
    "name": "ipython",
    "version": 3
   },
   "file_extension": ".py",
   "mimetype": "text/x-python",
   "name": "python",
   "nbconvert_exporter": "python",
   "pygments_lexer": "ipython3",
   "version": "3.9.2"
  },
  "orig_nbformat": 4,
  "vscode": {
   "interpreter": {
    "hash": "c1a702e2641f0132aaed075b844410e4172c26fd31c1607f58c03f1d53e196ed"
   }
  }
 },
 "nbformat": 4,
 "nbformat_minor": 2
}
